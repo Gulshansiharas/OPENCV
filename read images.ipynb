{
 "cells": [
  {
   "cell_type": "code",
   "execution_count": 13,
   "metadata": {},
   "outputs": [],
   "source": [
    "import cv2\n",
    "import numpy as np"
   ]
  },
  {
   "cell_type": "code",
   "execution_count": 14,
   "metadata": {},
   "outputs": [],
   "source": [
    "img=cv2.imread(r'C:\\Users\\gulsh\\OneDrive\\Desktop\\OPENCV\\whitedog.jpg')\n",
    "cv2.imshow('image',img)\n",
    "cv2.waitKey(3)\n",
    "cv2.destroyAllWindows()"
   ]
  },
  {
   "cell_type": "code",
   "execution_count": 19,
   "metadata": {},
   "outputs": [
    {
     "name": "stdout",
     "output_type": "stream",
     "text": [
      "image written to file-system: True\n"
     ]
    }
   ],
   "source": [
    "img1=cv2.imread(r'C:\\Users\\gulsh\\OneDrive\\Desktop\\OPENCV\\whitedog.jpg',1)\n",
    "status=cv2.imwrite(r'C:\\Users\\gulsh\\OneDrive\\Desktop\\OPENCV\\whitedog.jpg',img1)\n",
    "print(\"image written to file-system:\",status)"
   ]
  },
  {
   "cell_type": "code",
   "execution_count": null,
   "metadata": {},
   "outputs": [],
   "source": []
  }
 ],
 "metadata": {
  "kernelspec": {
   "display_name": "Python 3",
   "language": "python",
   "name": "python3"
  },
  "language_info": {
   "codemirror_mode": {
    "name": "ipython",
    "version": 3
   },
   "file_extension": ".py",
   "mimetype": "text/x-python",
   "name": "python",
   "nbconvert_exporter": "python",
   "pygments_lexer": "ipython3",
   "version": "3.11.5"
  }
 },
 "nbformat": 4,
 "nbformat_minor": 2
}
