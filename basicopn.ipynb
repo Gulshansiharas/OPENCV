{
 "cells": [
  {
   "cell_type": "code",
   "execution_count": 1,
   "metadata": {},
   "outputs": [],
   "source": [
    "import numpy  as np\n",
    "import cv2"
   ]
  },
  {
   "cell_type": "code",
   "execution_count": 19,
   "metadata": {},
   "outputs": [
    {
     "name": "stdout",
     "output_type": "stream",
     "text": [
      "[186 101  53]\n"
     ]
    }
   ],
   "source": [
    "img=cv2.imread(r'C:\\Users\\gulsh\\OneDrive\\Desktop\\OPENCV\\flower.jpg',1)\n",
    "pixel=img[150,100]\n",
    "print(pixel)\n",
    "\n",
    "    "
   ]
  },
  {
   "cell_type": "code",
   "execution_count": 11,
   "metadata": {},
   "outputs": [
    {
     "name": "stdout",
     "output_type": "stream",
     "text": [
      "Image Dimension    :  3\n",
      "Image Height       :  837\n",
      "Image Width        :  1200\n",
      "Number of Channels :  3\n",
      "Image Size  : 3013200\n"
     ]
    }
   ],
   "source": [
    "dimensions=img.ndim\n",
    "height=img.shape[0]\n",
    "width=img.shape[1]\n",
    "channels=img.shape[2]\n",
    "size1=img.size\n",
    "print('Image Dimension    : ',dimensions)  \n",
    "print('Image Height       : ',height)  \n",
    "print('Image Width        : ',width)  \n",
    "print('Number of Channels : ',channels)  \n",
    "print('Image Size  :', size1)  "
   ]
  },
  {
   "cell_type": "code",
   "execution_count": 13,
   "metadata": {},
   "outputs": [
    {
     "data": {
      "text/plain": [
       "(array([[191, 192, 194, ..., 173, 174, 174],\n",
       "        [189, 190, 191, ..., 173, 174, 174],\n",
       "        [188, 189, 190, ..., 173, 174, 174],\n",
       "        ...,\n",
       "        [180, 180, 180, ..., 171, 170, 166],\n",
       "        [180, 180, 180, ..., 170, 170, 167],\n",
       "        [180, 180, 180, ..., 170, 170, 168]], dtype=uint8),\n",
       " array([[104, 105, 107, ...,  86,  87,  87],\n",
       "        [102, 103, 104, ...,  86,  87,  87],\n",
       "        [101, 102, 103, ...,  87,  88,  88],\n",
       "        ...,\n",
       "        [ 95,  95,  95, ...,  84,  83,  79],\n",
       "        [ 95,  95,  95, ...,  83,  83,  80],\n",
       "        [ 95,  95,  95, ...,  83,  83,  81]], dtype=uint8),\n",
       " array([[54, 55, 57, ..., 42, 43, 43],\n",
       "        [52, 53, 54, ..., 42, 43, 43],\n",
       "        [51, 52, 53, ..., 41, 42, 42],\n",
       "        ...,\n",
       "        [47, 47, 47, ..., 40, 39, 35],\n",
       "        [47, 47, 47, ..., 39, 39, 36],\n",
       "        [47, 47, 47, ..., 39, 39, 37]], dtype=uint8))"
      ]
     },
     "execution_count": 13,
     "metadata": {},
     "output_type": "execute_result"
    }
   ],
   "source": [
    "b,g,r=cv2.split(img)\n",
    "b,g,r"
   ]
  },
  {
   "cell_type": "code",
   "execution_count": 15,
   "metadata": {},
   "outputs": [
    {
     "data": {
      "text/plain": [
       "array([[[191, 104,  54],\n",
       "        [192, 105,  55],\n",
       "        [194, 107,  57],\n",
       "        ...,\n",
       "        [173,  86,  42],\n",
       "        [174,  87,  43],\n",
       "        [174,  87,  43]],\n",
       "\n",
       "       [[189, 102,  52],\n",
       "        [190, 103,  53],\n",
       "        [191, 104,  54],\n",
       "        ...,\n",
       "        [173,  86,  42],\n",
       "        [174,  87,  43],\n",
       "        [174,  87,  43]],\n",
       "\n",
       "       [[188, 101,  51],\n",
       "        [189, 102,  52],\n",
       "        [190, 103,  53],\n",
       "        ...,\n",
       "        [173,  87,  41],\n",
       "        [174,  88,  42],\n",
       "        [174,  88,  42]],\n",
       "\n",
       "       ...,\n",
       "\n",
       "       [[180,  95,  47],\n",
       "        [180,  95,  47],\n",
       "        [180,  95,  47],\n",
       "        ...,\n",
       "        [171,  84,  40],\n",
       "        [170,  83,  39],\n",
       "        [166,  79,  35]],\n",
       "\n",
       "       [[180,  95,  47],\n",
       "        [180,  95,  47],\n",
       "        [180,  95,  47],\n",
       "        ...,\n",
       "        [170,  83,  39],\n",
       "        [170,  83,  39],\n",
       "        [167,  80,  36]],\n",
       "\n",
       "       [[180,  95,  47],\n",
       "        [180,  95,  47],\n",
       "        [180,  95,  47],\n",
       "        ...,\n",
       "        [170,  83,  39],\n",
       "        [170,  83,  39],\n",
       "        [168,  81,  37]]], dtype=uint8)"
      ]
     },
     "execution_count": 15,
     "metadata": {},
     "output_type": "execute_result"
    }
   ],
   "source": [
    "img1=cv2.merge((b,g,r))\n",
    "img1"
   ]
  },
  {
   "cell_type": "code",
   "execution_count": null,
   "metadata": {},
   "outputs": [],
   "source": []
  }
 ],
 "metadata": {
  "kernelspec": {
   "display_name": "Python 3",
   "language": "python",
   "name": "python3"
  },
  "language_info": {
   "codemirror_mode": {
    "name": "ipython",
    "version": 3
   },
   "file_extension": ".py",
   "mimetype": "text/x-python",
   "name": "python",
   "nbconvert_exporter": "python",
   "pygments_lexer": "ipython3",
   "version": "3.11.5"
  }
 },
 "nbformat": 4,
 "nbformat_minor": 2
}
